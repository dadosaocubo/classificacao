{
 "cells": [
  {
   "cell_type": "markdown",
   "metadata": {},
   "source": [
    "![tile](DadosAoCubo.png)"
   ]
  },
  {
   "cell_type": "markdown",
   "metadata": {},
   "source": [
    "# Análise de Dados: Detecção de Fraude de Cartão de Crédito"
   ]
  },
  {
   "cell_type": "markdown",
   "metadata": {},
   "source": [
    "Criado por [Jaqueline Lopes](https://github.com/JaquelineLD)"
   ]
  },
  {
   "cell_type": "markdown",
   "metadata": {},
   "source": [
    "## Conjunto de Dados\n",
    "\n",
    "**Dataset Credit Card Fraud Detection**: https://www.kaggle.com/mlg-ulb/creditcardfraud\n",
    "\n",
    "Queremos analisar os dados de transações de clientes titulares coletados durante 2 dias no mês de setembro/2013. Temos um total de 284.807 transações, sendo que apenas 0,173% (492) transações foram fraude. Seguindo as regulamentações estabelecidas pela GDPR, a maioria das observações são resultado de uma transformação PCA. Apenas o tempo e a quantia gasta, estão disponíveis, além das classificação da transação fraude (1) e não fraude (0)."
   ]
  },
  {
   "cell_type": "markdown",
   "metadata": {},
   "source": [
    "### Bibliotecas Utilizadas"
   ]
  },
  {
   "cell_type": "code",
   "execution_count": 1,
   "metadata": {},
   "outputs": [],
   "source": [
    "import pandas as pd\n",
    "import numpy as np\n",
    "import seaborn as sns\n",
    "import missingno as miss\n",
    "import joblib\n",
    "from scipy import stats\n",
    "from collections import Counter\n",
    "import matplotlib.pyplot as plt\n",
    "import itertools\n",
    "from sklearn import tree\n",
    "from sklearn import preprocessing\n",
    "from sklearn import metrics\n",
    "from sklearn.preprocessing import scale\n",
    "from sklearn.preprocessing import StandardScaler\n",
    "from sklearn.impute import SimpleImputer\n",
    "from sklearn.utils.class_weight import compute_class_weight\n",
    "from sklearn.datasets import make_classification\n",
    "from sklearn.model_selection import cross_val_score\n",
    "from sklearn.model_selection import cross_validate\n",
    "from sklearn.model_selection import StratifiedKFold\n",
    "from sklearn.linear_model import LogisticRegression\n",
    "from sklearn.tree import DecisionTreeClassifier\n",
    "from sklearn.ensemble import RandomForestClassifier\n",
    "from xgboost import XGBClassifier\n",
    "from sklearn.svm import SVC\n",
    "from sklearn.model_selection import train_test_split\n",
    "from sklearn.metrics import plot_roc_curve\n",
    "from sklearn.metrics import auc\n",
    "from sklearn.metrics import roc_curve\n",
    "from sklearn.metrics import roc_auc_score\n",
    "from sklearn.exceptions import ConvergenceWarning\n",
    "from sklearn.metrics import precision_score\n",
    "from sklearn.metrics import recall_score\n",
    "from sklearn.model_selection import learning_curve\n",
    "from sklearn.model_selection import ShuffleSplit\n",
    "from sklearn.model_selection import RandomizedSearchCV\n",
    "from sklearn import model_selection\n",
    "from sklearn import feature_selection\n",
    "from sklearn.metrics import precision_recall_curve\n",
    "from time import perf_counter \n",
    "\n",
    "\n",
    "import warnings\n",
    "warnings.filterwarnings('ignore')"
   ]
  },
  {
   "cell_type": "markdown",
   "metadata": {},
   "source": [
    "## Leitura dos Dados"
   ]
  },
  {
   "cell_type": "markdown",
   "metadata": {},
   "source": [
    "Utilizamos a biblioteca pandas para importar os nossos dados:"
   ]
  },
  {
   "cell_type": "code",
   "execution_count": 32,
   "metadata": {},
   "outputs": [],
   "source": [
    "dados = pd.read_csv('creditcard.csv', index_col=None)"
   ]
  },
  {
   "cell_type": "markdown",
   "metadata": {},
   "source": [
    "Verificamos se os dados foram importados corretamente de acordo com o esperado:"
   ]
  },
  {
   "cell_type": "code",
   "execution_count": 3,
   "metadata": {},
   "outputs": [
    {
     "data": {
      "text/plain": [
       "(284807, 31)"
      ]
     },
     "execution_count": 3,
     "metadata": {},
     "output_type": "execute_result"
    }
   ],
   "source": [
    "dados.shape"
   ]
  },
  {
   "cell_type": "code",
   "execution_count": 4,
   "metadata": {},
   "outputs": [
    {
     "name": "stdout",
     "output_type": "stream",
     "text": [
      "Classe=0, Contagem=284315, Porcentagem=99.827%\n",
      "Classe=1, Contagem=492, Porcentagem=0.173%\n"
     ]
    }
   ],
   "source": [
    "classe = dados.values[:,-1]\n",
    "counter = Counter(classe) \n",
    "for c1, c2 in counter.items():\n",
    "    c3 = c2 / len(classe) * 100\n",
    "    print('Classe=%d, Contagem=%d, Porcentagem=%.3f%%' % (c1, c2, c3))"
   ]
  },
  {
   "cell_type": "code",
   "execution_count": 52,
   "metadata": {},
   "outputs": [
    {
     "data": {
      "text/html": [
       "<div>\n",
       "<style scoped>\n",
       "    .dataframe tbody tr th:only-of-type {\n",
       "        vertical-align: middle;\n",
       "    }\n",
       "\n",
       "    .dataframe tbody tr th {\n",
       "        vertical-align: top;\n",
       "    }\n",
       "\n",
       "    .dataframe thead th {\n",
       "        text-align: right;\n",
       "    }\n",
       "</style>\n",
       "<table border=\"1\" class=\"dataframe\">\n",
       "  <thead>\n",
       "    <tr style=\"text-align: right;\">\n",
       "      <th></th>\n",
       "      <th>Time</th>\n",
       "      <th>V1</th>\n",
       "      <th>V2</th>\n",
       "      <th>V3</th>\n",
       "      <th>V4</th>\n",
       "      <th>V5</th>\n",
       "      <th>V6</th>\n",
       "      <th>V7</th>\n",
       "      <th>V8</th>\n",
       "      <th>V9</th>\n",
       "      <th>...</th>\n",
       "      <th>V23</th>\n",
       "      <th>V24</th>\n",
       "      <th>V25</th>\n",
       "      <th>V26</th>\n",
       "      <th>V27</th>\n",
       "      <th>V28</th>\n",
       "      <th>Amount</th>\n",
       "      <th>Class</th>\n",
       "      <th>Amount_log</th>\n",
       "      <th>Time_min</th>\n",
       "    </tr>\n",
       "  </thead>\n",
       "  <tbody>\n",
       "    <tr>\n",
       "      <th>0</th>\n",
       "      <td>94814.525391</td>\n",
       "      <td>-1.359807</td>\n",
       "      <td>-0.072781</td>\n",
       "      <td>2.536347</td>\n",
       "      <td>1.378155</td>\n",
       "      <td>-0.338321</td>\n",
       "      <td>0.462388</td>\n",
       "      <td>0.239599</td>\n",
       "      <td>0.098698</td>\n",
       "      <td>0.363787</td>\n",
       "      <td>...</td>\n",
       "      <td>-0.110474</td>\n",
       "      <td>0.066928</td>\n",
       "      <td>0.128539</td>\n",
       "      <td>-0.189115</td>\n",
       "      <td>0.133558</td>\n",
       "      <td>-0.021053</td>\n",
       "      <td>149.62</td>\n",
       "      <td>0.0</td>\n",
       "      <td>5.008099</td>\n",
       "      <td>20</td>\n",
       "    </tr>\n",
       "    <tr>\n",
       "      <th>1</th>\n",
       "      <td>94814.525391</td>\n",
       "      <td>1.191857</td>\n",
       "      <td>0.266151</td>\n",
       "      <td>0.166480</td>\n",
       "      <td>0.448154</td>\n",
       "      <td>0.060018</td>\n",
       "      <td>-0.082361</td>\n",
       "      <td>-0.078803</td>\n",
       "      <td>0.085102</td>\n",
       "      <td>-0.255425</td>\n",
       "      <td>...</td>\n",
       "      <td>0.101288</td>\n",
       "      <td>-0.339846</td>\n",
       "      <td>0.167170</td>\n",
       "      <td>0.125895</td>\n",
       "      <td>-0.008983</td>\n",
       "      <td>0.014724</td>\n",
       "      <td>2.69</td>\n",
       "      <td>0.0</td>\n",
       "      <td>0.989541</td>\n",
       "      <td>20</td>\n",
       "    </tr>\n",
       "    <tr>\n",
       "      <th>2</th>\n",
       "      <td>1.000000</td>\n",
       "      <td>-1.358354</td>\n",
       "      <td>-1.340163</td>\n",
       "      <td>1.773209</td>\n",
       "      <td>0.379780</td>\n",
       "      <td>-0.503198</td>\n",
       "      <td>1.800499</td>\n",
       "      <td>0.791461</td>\n",
       "      <td>0.247676</td>\n",
       "      <td>-1.514654</td>\n",
       "      <td>...</td>\n",
       "      <td>0.909412</td>\n",
       "      <td>-0.689281</td>\n",
       "      <td>-0.327642</td>\n",
       "      <td>-0.139097</td>\n",
       "      <td>-0.055353</td>\n",
       "      <td>-0.059752</td>\n",
       "      <td>378.66</td>\n",
       "      <td>0.0</td>\n",
       "      <td>5.936639</td>\n",
       "      <td>0</td>\n",
       "    </tr>\n",
       "    <tr>\n",
       "      <th>3</th>\n",
       "      <td>1.000000</td>\n",
       "      <td>-0.966272</td>\n",
       "      <td>-0.185226</td>\n",
       "      <td>1.792993</td>\n",
       "      <td>-0.863291</td>\n",
       "      <td>-0.010309</td>\n",
       "      <td>1.247203</td>\n",
       "      <td>0.237609</td>\n",
       "      <td>0.377436</td>\n",
       "      <td>-1.387024</td>\n",
       "      <td>...</td>\n",
       "      <td>-0.190321</td>\n",
       "      <td>-1.175575</td>\n",
       "      <td>0.647376</td>\n",
       "      <td>-0.221929</td>\n",
       "      <td>0.062723</td>\n",
       "      <td>0.061458</td>\n",
       "      <td>123.50</td>\n",
       "      <td>0.0</td>\n",
       "      <td>4.816241</td>\n",
       "      <td>0</td>\n",
       "    </tr>\n",
       "    <tr>\n",
       "      <th>4</th>\n",
       "      <td>2.000000</td>\n",
       "      <td>-1.158233</td>\n",
       "      <td>0.877737</td>\n",
       "      <td>1.548718</td>\n",
       "      <td>0.403034</td>\n",
       "      <td>-0.407193</td>\n",
       "      <td>0.095921</td>\n",
       "      <td>0.592941</td>\n",
       "      <td>-0.270533</td>\n",
       "      <td>0.817739</td>\n",
       "      <td>...</td>\n",
       "      <td>-0.137458</td>\n",
       "      <td>0.141267</td>\n",
       "      <td>-0.206010</td>\n",
       "      <td>0.502292</td>\n",
       "      <td>0.219422</td>\n",
       "      <td>0.215153</td>\n",
       "      <td>69.99</td>\n",
       "      <td>0.0</td>\n",
       "      <td>4.248352</td>\n",
       "      <td>0</td>\n",
       "    </tr>\n",
       "    <tr>\n",
       "      <th>...</th>\n",
       "      <td>...</td>\n",
       "      <td>...</td>\n",
       "      <td>...</td>\n",
       "      <td>...</td>\n",
       "      <td>...</td>\n",
       "      <td>...</td>\n",
       "      <td>...</td>\n",
       "      <td>...</td>\n",
       "      <td>...</td>\n",
       "      <td>...</td>\n",
       "      <td>...</td>\n",
       "      <td>...</td>\n",
       "      <td>...</td>\n",
       "      <td>...</td>\n",
       "      <td>...</td>\n",
       "      <td>...</td>\n",
       "      <td>...</td>\n",
       "      <td>...</td>\n",
       "      <td>...</td>\n",
       "      <td>...</td>\n",
       "      <td>...</td>\n",
       "    </tr>\n",
       "    <tr>\n",
       "      <th>95</th>\n",
       "      <td>64.000000</td>\n",
       "      <td>-0.658305</td>\n",
       "      <td>0.406791</td>\n",
       "      <td>2.037461</td>\n",
       "      <td>-0.291298</td>\n",
       "      <td>0.147910</td>\n",
       "      <td>-0.350857</td>\n",
       "      <td>0.945373</td>\n",
       "      <td>-0.172560</td>\n",
       "      <td>0.025133</td>\n",
       "      <td>...</td>\n",
       "      <td>0.089877</td>\n",
       "      <td>0.421195</td>\n",
       "      <td>-0.352487</td>\n",
       "      <td>0.074783</td>\n",
       "      <td>-0.094192</td>\n",
       "      <td>-0.092493</td>\n",
       "      <td>54.99</td>\n",
       "      <td>0.0</td>\n",
       "      <td>4.007151</td>\n",
       "      <td>1</td>\n",
       "    </tr>\n",
       "    <tr>\n",
       "      <th>96</th>\n",
       "      <td>64.000000</td>\n",
       "      <td>0.959602</td>\n",
       "      <td>0.370711</td>\n",
       "      <td>0.888613</td>\n",
       "      <td>2.343244</td>\n",
       "      <td>0.352491</td>\n",
       "      <td>1.365515</td>\n",
       "      <td>-0.277771</td>\n",
       "      <td>0.516053</td>\n",
       "      <td>-0.700929</td>\n",
       "      <td>...</td>\n",
       "      <td>0.356504</td>\n",
       "      <td>-0.696881</td>\n",
       "      <td>-0.198718</td>\n",
       "      <td>-0.220268</td>\n",
       "      <td>0.068546</td>\n",
       "      <td>0.020797</td>\n",
       "      <td>7.55</td>\n",
       "      <td>0.0</td>\n",
       "      <td>2.021548</td>\n",
       "      <td>1</td>\n",
       "    </tr>\n",
       "    <tr>\n",
       "      <th>97</th>\n",
       "      <td>67.000000</td>\n",
       "      <td>-0.653445</td>\n",
       "      <td>0.160225</td>\n",
       "      <td>1.592256</td>\n",
       "      <td>1.296832</td>\n",
       "      <td>0.997175</td>\n",
       "      <td>-0.343000</td>\n",
       "      <td>0.469937</td>\n",
       "      <td>-0.132470</td>\n",
       "      <td>-0.197794</td>\n",
       "      <td>...</td>\n",
       "      <td>-0.014883</td>\n",
       "      <td>0.102959</td>\n",
       "      <td>-0.265322</td>\n",
       "      <td>-0.348637</td>\n",
       "      <td>0.011238</td>\n",
       "      <td>-0.049478</td>\n",
       "      <td>19.85</td>\n",
       "      <td>0.0</td>\n",
       "      <td>2.988204</td>\n",
       "      <td>1</td>\n",
       "    </tr>\n",
       "    <tr>\n",
       "      <th>98</th>\n",
       "      <td>67.000000</td>\n",
       "      <td>-1.494668</td>\n",
       "      <td>0.837241</td>\n",
       "      <td>2.628211</td>\n",
       "      <td>3.145414</td>\n",
       "      <td>-0.609098</td>\n",
       "      <td>0.258495</td>\n",
       "      <td>-0.012189</td>\n",
       "      <td>0.102136</td>\n",
       "      <td>-0.286164</td>\n",
       "      <td>...</td>\n",
       "      <td>0.332720</td>\n",
       "      <td>0.718193</td>\n",
       "      <td>-0.219366</td>\n",
       "      <td>0.118927</td>\n",
       "      <td>-0.317486</td>\n",
       "      <td>-0.340783</td>\n",
       "      <td>28.28</td>\n",
       "      <td>0.0</td>\n",
       "      <td>3.342155</td>\n",
       "      <td>1</td>\n",
       "    </tr>\n",
       "    <tr>\n",
       "      <th>99</th>\n",
       "      <td>68.000000</td>\n",
       "      <td>1.232996</td>\n",
       "      <td>0.189454</td>\n",
       "      <td>0.491040</td>\n",
       "      <td>0.633673</td>\n",
       "      <td>-0.511574</td>\n",
       "      <td>-0.990609</td>\n",
       "      <td>0.066240</td>\n",
       "      <td>-0.196940</td>\n",
       "      <td>0.075921</td>\n",
       "      <td>...</td>\n",
       "      <td>0.125998</td>\n",
       "      <td>0.369627</td>\n",
       "      <td>0.205598</td>\n",
       "      <td>0.094062</td>\n",
       "      <td>-0.033138</td>\n",
       "      <td>0.020990</td>\n",
       "      <td>15.99</td>\n",
       "      <td>0.0</td>\n",
       "      <td>2.771964</td>\n",
       "      <td>1</td>\n",
       "    </tr>\n",
       "  </tbody>\n",
       "</table>\n",
       "<p>100 rows × 33 columns</p>\n",
       "</div>"
      ],
      "text/plain": [
       "            Time        V1        V2        V3        V4        V5        V6  \\\n",
       "0   94814.525391 -1.359807 -0.072781  2.536347  1.378155 -0.338321  0.462388   \n",
       "1   94814.525391  1.191857  0.266151  0.166480  0.448154  0.060018 -0.082361   \n",
       "2       1.000000 -1.358354 -1.340163  1.773209  0.379780 -0.503198  1.800499   \n",
       "3       1.000000 -0.966272 -0.185226  1.792993 -0.863291 -0.010309  1.247203   \n",
       "4       2.000000 -1.158233  0.877737  1.548718  0.403034 -0.407193  0.095921   \n",
       "..           ...       ...       ...       ...       ...       ...       ...   \n",
       "95     64.000000 -0.658305  0.406791  2.037461 -0.291298  0.147910 -0.350857   \n",
       "96     64.000000  0.959602  0.370711  0.888613  2.343244  0.352491  1.365515   \n",
       "97     67.000000 -0.653445  0.160225  1.592256  1.296832  0.997175 -0.343000   \n",
       "98     67.000000 -1.494668  0.837241  2.628211  3.145414 -0.609098  0.258495   \n",
       "99     68.000000  1.232996  0.189454  0.491040  0.633673 -0.511574 -0.990609   \n",
       "\n",
       "          V7        V8        V9  ...       V23       V24       V25       V26  \\\n",
       "0   0.239599  0.098698  0.363787  ... -0.110474  0.066928  0.128539 -0.189115   \n",
       "1  -0.078803  0.085102 -0.255425  ...  0.101288 -0.339846  0.167170  0.125895   \n",
       "2   0.791461  0.247676 -1.514654  ...  0.909412 -0.689281 -0.327642 -0.139097   \n",
       "3   0.237609  0.377436 -1.387024  ... -0.190321 -1.175575  0.647376 -0.221929   \n",
       "4   0.592941 -0.270533  0.817739  ... -0.137458  0.141267 -0.206010  0.502292   \n",
       "..       ...       ...       ...  ...       ...       ...       ...       ...   \n",
       "95  0.945373 -0.172560  0.025133  ...  0.089877  0.421195 -0.352487  0.074783   \n",
       "96 -0.277771  0.516053 -0.700929  ...  0.356504 -0.696881 -0.198718 -0.220268   \n",
       "97  0.469937 -0.132470 -0.197794  ... -0.014883  0.102959 -0.265322 -0.348637   \n",
       "98 -0.012189  0.102136 -0.286164  ...  0.332720  0.718193 -0.219366  0.118927   \n",
       "99  0.066240 -0.196940  0.075921  ...  0.125998  0.369627  0.205598  0.094062   \n",
       "\n",
       "         V27       V28  Amount  Class  Amount_log  Time_min  \n",
       "0   0.133558 -0.021053  149.62    0.0    5.008099        20  \n",
       "1  -0.008983  0.014724    2.69    0.0    0.989541        20  \n",
       "2  -0.055353 -0.059752  378.66    0.0    5.936639         0  \n",
       "3   0.062723  0.061458  123.50    0.0    4.816241         0  \n",
       "4   0.219422  0.215153   69.99    0.0    4.248352         0  \n",
       "..       ...       ...     ...    ...         ...       ...  \n",
       "95 -0.094192 -0.092493   54.99    0.0    4.007151         1  \n",
       "96  0.068546  0.020797    7.55    0.0    2.021548         1  \n",
       "97  0.011238 -0.049478   19.85    0.0    2.988204         1  \n",
       "98 -0.317486 -0.340783   28.28    0.0    3.342155         1  \n",
       "99 -0.033138  0.020990   15.99    0.0    2.771964         1  \n",
       "\n",
       "[100 rows x 33 columns]"
      ]
     },
     "execution_count": 52,
     "metadata": {},
     "output_type": "execute_result"
    }
   ],
   "source": [
    "dados.head(100)"
   ]
  },
  {
   "cell_type": "code",
   "execution_count": 7,
   "metadata": {},
   "outputs": [
    {
     "name": "stdout",
     "output_type": "stream",
     "text": [
      "<class 'pandas.core.frame.DataFrame'>\n",
      "RangeIndex: 284807 entries, 0 to 284806\n",
      "Data columns (total 31 columns):\n",
      " #   Column  Non-Null Count   Dtype  \n",
      "---  ------  --------------   -----  \n",
      " 0   Time    284807 non-null  float64\n",
      " 1   V1      284807 non-null  float64\n",
      " 2   V2      284807 non-null  float64\n",
      " 3   V3      284807 non-null  float64\n",
      " 4   V4      284807 non-null  float64\n",
      " 5   V5      284807 non-null  float64\n",
      " 6   V6      284807 non-null  float64\n",
      " 7   V7      284807 non-null  float64\n",
      " 8   V8      284807 non-null  float64\n",
      " 9   V9      284807 non-null  float64\n",
      " 10  V10     284807 non-null  float64\n",
      " 11  V11     284807 non-null  float64\n",
      " 12  V12     284807 non-null  float64\n",
      " 13  V13     284807 non-null  float64\n",
      " 14  V14     284807 non-null  float64\n",
      " 15  V15     284807 non-null  float64\n",
      " 16  V16     284807 non-null  float64\n",
      " 17  V17     284807 non-null  float64\n",
      " 18  V18     284807 non-null  float64\n",
      " 19  V19     284807 non-null  float64\n",
      " 20  V20     284807 non-null  float64\n",
      " 21  V21     284807 non-null  float64\n",
      " 22  V22     284807 non-null  float64\n",
      " 23  V23     284807 non-null  float64\n",
      " 24  V24     284807 non-null  float64\n",
      " 25  V25     284807 non-null  float64\n",
      " 26  V26     284807 non-null  float64\n",
      " 27  V27     284807 non-null  float64\n",
      " 28  V28     284807 non-null  float64\n",
      " 29  Amount  284807 non-null  float64\n",
      " 30  Class   284807 non-null  int64  \n",
      "dtypes: float64(30), int64(1)\n",
      "memory usage: 67.4 MB\n"
     ]
    }
   ],
   "source": [
    "dados.info()"
   ]
  },
  {
   "cell_type": "code",
   "execution_count": 8,
   "metadata": {},
   "outputs": [],
   "source": [
    "names = ['Time', 'V1', 'V2', 'V3', 'V4', 'V5', 'V6', 'V7', 'V8', 'V9', 'V10',\n",
    "       'V11', 'V12', 'V13', 'V14', 'V15', 'V16', 'V17', 'V18', 'V19', 'V20',\n",
    "       'V21', 'V22', 'V23', 'V24', 'V25', 'V26', 'V27', 'V28', 'Amount',\n",
    "       'Class']"
   ]
  },
  {
   "cell_type": "code",
   "execution_count": 9,
   "metadata": {},
   "outputs": [
    {
     "data": {
      "text/plain": [
       "Time      0\n",
       "V1        0\n",
       "V2        0\n",
       "V3        0\n",
       "V4        0\n",
       "V5        0\n",
       "V6        0\n",
       "V7        0\n",
       "V8        0\n",
       "V9        0\n",
       "V10       0\n",
       "V11       0\n",
       "V12       0\n",
       "V13       0\n",
       "V14       0\n",
       "V15       0\n",
       "V16       0\n",
       "V17       0\n",
       "V18       0\n",
       "V19       0\n",
       "V20       0\n",
       "V21       0\n",
       "V22       0\n",
       "V23       0\n",
       "V24       0\n",
       "V25       0\n",
       "V26       0\n",
       "V27       0\n",
       "V28       0\n",
       "Amount    0\n",
       "Class     0\n",
       "dtype: int64"
      ]
     },
     "execution_count": 9,
     "metadata": {},
     "output_type": "execute_result"
    }
   ],
   "source": [
    "# número de dados ausentes em cada coluna\n",
    "dados.isnull().sum()"
   ]
  },
  {
   "cell_type": "code",
   "execution_count": 10,
   "metadata": {},
   "outputs": [
    {
     "data": {
      "text/plain": [
       "Time           2\n",
       "V1             0\n",
       "V2             0\n",
       "V3             0\n",
       "V4             0\n",
       "V5             0\n",
       "V6             0\n",
       "V7             0\n",
       "V8             0\n",
       "V9             0\n",
       "V10            0\n",
       "V11            0\n",
       "V12            0\n",
       "V13            0\n",
       "V14            0\n",
       "V15            0\n",
       "V16            0\n",
       "V17            0\n",
       "V18            0\n",
       "V19            0\n",
       "V20            0\n",
       "V21            0\n",
       "V22            0\n",
       "V23            0\n",
       "V24            0\n",
       "V25            0\n",
       "V26            0\n",
       "V27            0\n",
       "V28            0\n",
       "Amount      1825\n",
       "Class     284315\n",
       "dtype: int64"
      ]
     },
     "execution_count": 10,
     "metadata": {},
     "output_type": "execute_result"
    }
   ],
   "source": [
    "# contar linhas zeradas\n",
    "dados.isin([0]).sum()"
   ]
  },
  {
   "cell_type": "markdown",
   "metadata": {},
   "source": [
    "## Tratamendo do Dados\n",
    "\n",
    "Foram identificados valores nulos nas variáveis 'Time' (2) e 'Amount' (1825). Como se trata de transações no cartão de crédito, não faz sentido ter 'Amount' zero. Como não tenho orientação da área de negócio sobre como lidar com essas informaçãoes, optei por substituir esses valores pela média."
   ]
  },
  {
   "cell_type": "code",
   "execution_count": 33,
   "metadata": {},
   "outputs": [
    {
     "data": {
      "text/plain": [
       "Time         2\n",
       "Amount    1825\n",
       "dtype: int64"
      ]
     },
     "execution_count": 33,
     "metadata": {},
     "output_type": "execute_result"
    }
   ],
   "source": [
    "dados.loc[dados[\"Time\"] == 0.0, \"Time\"] = np.NAN\n",
    "dados.loc[dados[\"Amount\"] == 0.0, \"Amount\"] = np.NAN\n",
    "dados.isnull().sum()[['Time', 'Amount']]"
   ]
  },
  {
   "cell_type": "code",
   "execution_count": 34,
   "metadata": {},
   "outputs": [],
   "source": [
    "imputer = SimpleImputer(missing_values=np.nan, strategy='mean')\n",
    "imputer = imputer.fit(dados)\n",
    "dados_missmean = imputer.transform(dados)\n",
    "dados_mean = pd.DataFrame(dados_missmean, columns=names)"
   ]
  },
  {
   "cell_type": "code",
   "execution_count": 35,
   "metadata": {},
   "outputs": [
    {
     "data": {
      "text/html": [
       "<div>\n",
       "<style scoped>\n",
       "    .dataframe tbody tr th:only-of-type {\n",
       "        vertical-align: middle;\n",
       "    }\n",
       "\n",
       "    .dataframe tbody tr th {\n",
       "        vertical-align: top;\n",
       "    }\n",
       "\n",
       "    .dataframe thead th {\n",
       "        text-align: right;\n",
       "    }\n",
       "</style>\n",
       "<table border=\"1\" class=\"dataframe\">\n",
       "  <thead>\n",
       "    <tr style=\"text-align: right;\">\n",
       "      <th></th>\n",
       "      <th>Time</th>\n",
       "      <th>Amount</th>\n",
       "    </tr>\n",
       "  </thead>\n",
       "  <tbody>\n",
       "    <tr>\n",
       "      <th>count</th>\n",
       "      <td>284807.000000</td>\n",
       "      <td>284807.000000</td>\n",
       "    </tr>\n",
       "    <tr>\n",
       "      <th>mean</th>\n",
       "      <td>94814.525391</td>\n",
       "      <td>88.919401</td>\n",
       "    </tr>\n",
       "    <tr>\n",
       "      <th>std</th>\n",
       "      <td>47487.481270</td>\n",
       "      <td>250.019457</td>\n",
       "    </tr>\n",
       "    <tr>\n",
       "      <th>min</th>\n",
       "      <td>1.000000</td>\n",
       "      <td>0.010000</td>\n",
       "    </tr>\n",
       "    <tr>\n",
       "      <th>25%</th>\n",
       "      <td>54203.000000</td>\n",
       "      <td>5.990000</td>\n",
       "    </tr>\n",
       "    <tr>\n",
       "      <th>50%</th>\n",
       "      <td>84694.000000</td>\n",
       "      <td>22.900000</td>\n",
       "    </tr>\n",
       "    <tr>\n",
       "      <th>75%</th>\n",
       "      <td>139320.500000</td>\n",
       "      <td>79.900000</td>\n",
       "    </tr>\n",
       "    <tr>\n",
       "      <th>max</th>\n",
       "      <td>172792.000000</td>\n",
       "      <td>25691.160000</td>\n",
       "    </tr>\n",
       "  </tbody>\n",
       "</table>\n",
       "</div>"
      ],
      "text/plain": [
       "                Time         Amount\n",
       "count  284807.000000  284807.000000\n",
       "mean    94814.525391      88.919401\n",
       "std     47487.481270     250.019457\n",
       "min         1.000000       0.010000\n",
       "25%     54203.000000       5.990000\n",
       "50%     84694.000000      22.900000\n",
       "75%    139320.500000      79.900000\n",
       "max    172792.000000   25691.160000"
      ]
     },
     "execution_count": 35,
     "metadata": {},
     "output_type": "execute_result"
    }
   ],
   "source": [
    "dados_mean[[\"Time\",\"Amount\"]].describe()"
   ]
  },
  {
   "cell_type": "code",
   "execution_count": 36,
   "metadata": {},
   "outputs": [],
   "source": [
    "dados = dados_mean"
   ]
  },
  {
   "cell_type": "markdown",
   "metadata": {},
   "source": [
    "## Análise Exploratória\n",
    "\n",
    "Estamos à procura de evidências que auxiliem na construção do nosso modelo e insights relevantes para o negócio."
   ]
  },
  {
   "cell_type": "code",
   "execution_count": 37,
   "metadata": {},
   "outputs": [
    {
     "data": {
      "text/html": [
       "<div>\n",
       "<style scoped>\n",
       "    .dataframe tbody tr th:only-of-type {\n",
       "        vertical-align: middle;\n",
       "    }\n",
       "\n",
       "    .dataframe tbody tr th {\n",
       "        vertical-align: top;\n",
       "    }\n",
       "\n",
       "    .dataframe thead th {\n",
       "        text-align: right;\n",
       "    }\n",
       "</style>\n",
       "<table border=\"1\" class=\"dataframe\">\n",
       "  <thead>\n",
       "    <tr style=\"text-align: right;\">\n",
       "      <th></th>\n",
       "      <th>Time</th>\n",
       "      <th>Amount</th>\n",
       "      <th>Class</th>\n",
       "    </tr>\n",
       "  </thead>\n",
       "  <tbody>\n",
       "    <tr>\n",
       "      <th>count</th>\n",
       "      <td>284807.000000</td>\n",
       "      <td>284807.000000</td>\n",
       "      <td>284807.000000</td>\n",
       "    </tr>\n",
       "    <tr>\n",
       "      <th>mean</th>\n",
       "      <td>94814.525391</td>\n",
       "      <td>88.919401</td>\n",
       "      <td>0.001727</td>\n",
       "    </tr>\n",
       "    <tr>\n",
       "      <th>std</th>\n",
       "      <td>47487.481270</td>\n",
       "      <td>250.019457</td>\n",
       "      <td>0.041527</td>\n",
       "    </tr>\n",
       "    <tr>\n",
       "      <th>min</th>\n",
       "      <td>1.000000</td>\n",
       "      <td>0.010000</td>\n",
       "      <td>0.000000</td>\n",
       "    </tr>\n",
       "    <tr>\n",
       "      <th>25%</th>\n",
       "      <td>54203.000000</td>\n",
       "      <td>5.990000</td>\n",
       "      <td>0.000000</td>\n",
       "    </tr>\n",
       "    <tr>\n",
       "      <th>50%</th>\n",
       "      <td>84694.000000</td>\n",
       "      <td>22.900000</td>\n",
       "      <td>0.000000</td>\n",
       "    </tr>\n",
       "    <tr>\n",
       "      <th>75%</th>\n",
       "      <td>139320.500000</td>\n",
       "      <td>79.900000</td>\n",
       "      <td>0.000000</td>\n",
       "    </tr>\n",
       "    <tr>\n",
       "      <th>max</th>\n",
       "      <td>172792.000000</td>\n",
       "      <td>25691.160000</td>\n",
       "      <td>1.000000</td>\n",
       "    </tr>\n",
       "  </tbody>\n",
       "</table>\n",
       "</div>"
      ],
      "text/plain": [
       "                Time         Amount          Class\n",
       "count  284807.000000  284807.000000  284807.000000\n",
       "mean    94814.525391      88.919401       0.001727\n",
       "std     47487.481270     250.019457       0.041527\n",
       "min         1.000000       0.010000       0.000000\n",
       "25%     54203.000000       5.990000       0.000000\n",
       "50%     84694.000000      22.900000       0.000000\n",
       "75%    139320.500000      79.900000       0.000000\n",
       "max    172792.000000   25691.160000       1.000000"
      ]
     },
     "execution_count": 37,
     "metadata": {},
     "output_type": "execute_result"
    }
   ],
   "source": [
    "dados[[\"Time\",\"Amount\",\"Class\"]].describe()"
   ]
  },
  {
   "cell_type": "code",
   "execution_count": 57,
   "metadata": {},
   "outputs": [
    {
     "data": {
      "image/png": "[encoded data removed]",
      "text/plain": [
       "<Figure size 504x360 with 1 Axes>"
      ]
     },
     "metadata": {
      "needs_background": "light"
     },
     "output_type": "display_data"
    }
   ],
   "source": [
    "heigths = [284315,492]\n",
    "bars_name = ('Não Fraude','Fraude')\n",
    "y_pos = np.arange(len(bars_name))\n",
    "\n",
    "\n",
    "plt.figure(figsize=(7,5))\n",
    "sns.countplot(dados['Class'])\n",
    "plt.xticks(y_pos,bars_name)\n",
    "plt.title(\"Tipo de transação\", fontsize=15)\n",
    "plt.xlabel(\"Classe\", fontsize=12)\n",
    "plt.ylabel(\"Frequência\", fontsize=12)\n",
    "plt.show()"
   ]
  },
  {
   "cell_type": "markdown",
   "metadata": {},
   "source": [
    "### Valor da transação (amount)"
   ]
  },
  {
   "cell_type": "code",
   "execution_count": 40,
   "metadata": {},
   "outputs": [
    {
     "name": "stdout",
     "output_type": "stream",
     "text": [
      "Fraude - resumo estatístico\n",
      "count     492.000000\n",
      "mean      127.091044\n",
      "std       255.151116\n",
      "min         0.010000\n",
      "25%         1.000000\n",
      "50%        22.915000\n",
      "75%       105.890000\n",
      "max      2125.870000\n",
      "Name: Amount, dtype: float64\n",
      "\n",
      "Não Fraude - resumo estatístico\n",
      "count    284315.000000\n",
      "mean         88.853346\n",
      "std         250.005892\n",
      "min           0.010000\n",
      "25%           5.990000\n",
      "50%          22.900000\n",
      "75%          79.850000\n",
      "max       25691.160000\n",
      "Name: Amount, dtype: float64\n"
     ]
    }
   ],
   "source": [
    "# Resumo estatístico\n",
    "fraude = dados[dados['Class'] == 1]\n",
    "normal = dados[dados['Class'] == 0]\n",
    "\n",
    "print(\"Fraude - resumo estatístico\")\n",
    "print(fraude[\"Amount\"].describe())\n",
    "print(\"\\nNão Fraude - resumo estatístico\")\n",
    "print(normal[\"Amount\"].describe())"
   ]
  },
  {
   "cell_type": "markdown",
   "metadata": {},
   "source": [
    "Fraude x Amount (valor)"
   ]
  },
  {
   "cell_type": "code",
   "execution_count": 59,
   "metadata": {},
   "outputs": [
    {
     "data": {
      "text/plain": [
       "Text(0, 0.5, 'Amount(Log)')"
      ]
     },
     "execution_count": 59,
     "metadata": {},
     "output_type": "execute_result"
    },
    {
     "data": {
      "image/png": "[encoded data removed]",
      "text/plain": [
       "<Figure size 504x360 with 1 Axes>"
      ]
     },
     "metadata": {
      "needs_background": "light"
     },
     "output_type": "display_data"
    }
   ],
   "source": [
    "dados['Amount_log'] = np.log(dados.Amount)\n",
    "plt.figure(figsize=(7,5))\n",
    "ax1 = sns.boxplot(x =\"Class\",y=\"Amount_log\", data=dados)\n",
    "ax1.set_title(\"Tipo de transação por valor da compra\", fontsize=15)\n",
    "ax1.set_xlabel(\"Não fraude          Fraude\", fontsize=12)\n",
    "ax1.set_ylabel(\"Amount(Log)\", fontsize = 12)"
   ]
  },
  {
   "cell_type": "markdown",
   "metadata": {},
   "source": [
    "Aplicação da transformação logarítmica para reduzir o efeito de vieses dos dados, como outliers."
   ]
  },
  {
   "cell_type": "markdown",
   "metadata": {},
   "source": [
    "### Tempo\n",
    "\n",
    "Refere-se ao tempo decorrido entre a realização da transação e o registro no banco de dados."
   ]
  },
  {
   "cell_type": "code",
   "execution_count": 42,
   "metadata": {},
   "outputs": [],
   "source": [
    "timedelta = pd.to_timedelta(dados['Time'], unit='s')\n",
    "dados['Time_min'] = (timedelta.dt.components.minutes).astype(int)"
   ]
  },
  {
   "cell_type": "code",
   "execution_count": 53,
   "metadata": {},
   "outputs": [
    {
     "name": "stdout",
     "output_type": "stream",
     "text": [
      "Fraude - resumo estatístico\n",
      "count    492.000000\n",
      "mean      28.945122\n",
      "std       17.327534\n",
      "min        0.000000\n",
      "25%       14.000000\n",
      "50%       28.000000\n",
      "75%       42.250000\n",
      "max       59.000000\n",
      "Name: Time_min, dtype: float64\n",
      "\n",
      "Não Fraude - resumo estatístico\n",
      "count    284315.000000\n",
      "mean         28.997274\n",
      "std          17.427899\n",
      "min           0.000000\n",
      "25%          14.000000\n",
      "50%          29.000000\n",
      "75%          44.000000\n",
      "max          59.000000\n",
      "Name: Time_min, dtype: float64\n"
     ]
    }
   ],
   "source": [
    "fraude = dados[dados['Class'] == 1]\n",
    "normal = dados[dados['Class'] == 0]\n",
    "\n",
    "print(\"Fraude - resumo estatístico\")\n",
    "print(fraude[\"Time_min\"].describe())\n",
    "print(\"\\nNão Fraude - resumo estatístico\")\n",
    "print(normal[\"Time_min\"].describe())"
   ]
  },
  {
   "cell_type": "code",
   "execution_count": 55,
   "metadata": {},
   "outputs": [
    {
     "data": {
      "text/plain": [
       "Text(0, 0.5, 'Tempo de registro (minutos)')"
      ]
     },
     "execution_count": 55,
     "metadata": {},
     "output_type": "execute_result"
    },
    {
     "data": {
      "image/png": "[encoded data removed]",
      "text/plain": [
       "<Figure size 504x360 with 1 Axes>"
      ]
     },
     "metadata": {
      "needs_background": "light"
     },
     "output_type": "display_data"
    }
   ],
   "source": [
    "plt.figure(figsize=(7,5))\n",
    "ax1 = sns.boxplot(x =\"Class\",y=\"Time_min\", data=dados)\n",
    "ax1.set_title(\"Tipo de transação e tempo de registro\", fontsize=15)\n",
    "plt.xlabel(\"Não fraude          Fraude\", fontsize=12)\n",
    "ax1.set_ylabel(\"Tempo de registro (minutos)\", fontsize = 12)"
   ]
  },
  {
   "cell_type": "code",
   "execution_count": 62,
   "metadata": {},
   "outputs": [
    {
     "data": {
      "image/png": "[encoded data removed]",
      "text/plain": [
       "<Figure size 864x360 with 1 Axes>"
      ]
     },
     "metadata": {
      "needs_background": "light"
     },
     "output_type": "display_data"
    }
   ],
   "source": [
    "plt.figure(figsize=(12,5))\n",
    "sns.distplot(dados[dados['Class'] == 0][\"Time_min\"], \n",
    "             color='r')\n",
    "sns.distplot(dados[dados['Class'] == 1][\"Time_min\"], \n",
    "             color='g')\n",
    "plt.title('Fraude vs. Não Fraude por Minuto', fontsize=17)\n",
    "plt.xlim([-1,61])\n",
    "plt.show()"
   ]
  },
  {
   "cell_type": "markdown",
   "metadata": {},
   "source": [
    "Não vemos uma diferenciação entre padrões de fraude e não fraude."
   ]
  },
  {
   "cell_type": "markdown",
   "metadata": {},
   "source": [
    "## Seleção de Atributos"
   ]
  },
  {
   "cell_type": "markdown",
   "metadata": {},
   "source": [
    "Modelos baseados em árvores nos ajuda a verificar a importância dos atributos. Uma importância maior normalemnete indica que há maior erro qaundo a variável é removida do modelo."
   ]
  },
  {
   "cell_type": "code",
   "execution_count": 64,
   "metadata": {},
   "outputs": [],
   "source": [
    "X, y = dados.values[:, 0:30], dados.values[:, 30]"
   ]
  },
  {
   "cell_type": "code",
   "execution_count": 65,
   "metadata": {},
   "outputs": [
    {
     "name": "stdout",
     "output_type": "stream",
     "text": [
      "[14:14:37] WARNING: ../src/learner.cc:1061: Starting in XGBoost 1.3.0, the default evaluation metric used with the objective 'binary:logistic' was changed from 'error' to 'logloss'. Explicitly set eval_metric if you'd like to restore the old behavior.\n"
     ]
    },
    {
     "data": {
      "text/plain": [
       "XGBClassifier(base_score=0.5, booster='gbtree', colsample_bylevel=1,\n",
       "              colsample_bynode=1, colsample_bytree=1, gamma=0, gpu_id=-1,\n",
       "              importance_type='gain', interaction_constraints='',\n",
       "              learning_rate=0.300000012, max_delta_step=0, max_depth=6,\n",
       "              min_child_weight=1, missing=nan, monotone_constraints='()',\n",
       "              n_estimators=100, n_jobs=12, num_parallel_tree=1, random_state=0,\n",
       "              reg_alpha=0, reg_lambda=1, scale_pos_weight=1, subsample=1,\n",
       "              tree_method='exact', validate_parameters=1, verbosity=None)"
      ]
     },
     "execution_count": 65,
     "metadata": {},
     "output_type": "execute_result"
    }
   ],
   "source": [
    "model = XGBClassifier()\n",
    "model.fit(X, y)"
   ]
  },
  {
   "cell_type": "code",
   "execution_count": 66,
   "metadata": {},
   "outputs": [],
   "source": [
    "importancia = model.feature_importances_"
   ]
  },
  {
   "cell_type": "code",
   "execution_count": 71,
   "metadata": {},
   "outputs": [
    {
     "name": "stdout",
     "output_type": "stream",
     "text": [
      "Atributo: 0, Score: 0.011\n",
      "Atributo: 1, Score: 0.012\n",
      "Atributo: 2, Score: 0.012\n",
      "Atributo: 3, Score: 0.013\n",
      "Atributo: 4, Score: 0.014\n",
      "Atributo: 5, Score: 0.014\n",
      "Atributo: 6, Score: 0.015\n",
      "Atributo: 7, Score: 0.015\n",
      "Atributo: 8, Score: 0.015\n",
      "Atributo: 9, Score: 0.015\n",
      "Atributo: 10, Score: 0.016\n",
      "Atributo: 11, Score: 0.016\n",
      "Atributo: 12, Score: 0.017\n",
      "Atributo: 13, Score: 0.018\n",
      "Atributo: 14, Score: 0.018\n",
      "Atributo: 15, Score: 0.018\n",
      "Atributo: 16, Score: 0.019\n",
      "Atributo: 17, Score: 0.020\n",
      "Atributo: 18, Score: 0.020\n",
      "Atributo: 19, Score: 0.020\n",
      "Atributo: 20, Score: 0.021\n",
      "Atributo: 21, Score: 0.023\n",
      "Atributo: 22, Score: 0.023\n",
      "Atributo: 23, Score: 0.026\n",
      "Atributo: 24, Score: 0.027\n",
      "Atributo: 25, Score: 0.028\n",
      "Atributo: 26, Score: 0.034\n",
      "Atributo: 27, Score: 0.052\n",
      "Atributo: 28, Score: 0.062\n",
      "Atributo: 29, Score: 0.383\n"
     ]
    },
    {
     "data": {
      "image/png": "[encoded data removed]",
      "text/plain": [
       "<Figure size 432x288 with 1 Axes>"
      ]
     },
     "metadata": {
      "needs_background": "light"
     },
     "output_type": "display_data"
    }
   ],
   "source": [
    "for i,v in enumerate(importancia):\n",
    "    print('Atributo: %0d, Score: %.3f' % (i,v))\n",
    "plt.barh([x for x in range(len(importancia))], importancia)\n",
    "plt.show()"
   ]
  },
  {
   "cell_type": "markdown",
   "metadata": {},
   "source": [
    "## Construção do modelo"
   ]
  },
  {
   "cell_type": "markdown",
   "metadata": {},
   "source": [
    "Observe que as variáveis que não foram aplicadas a transformação PCA estão em escala diferentes. Trazemos todos para a mesma escala, assim podemos utilizar algorimos sensíveis a escala dos dados. Normalização dos dados, vamos trazer os dados para a mesma escala."
   ]
  },
  {
   "cell_type": "code",
   "execution_count": 73,
   "metadata": {},
   "outputs": [],
   "source": [
    "X = scale(X)"
   ]
  },
  {
   "cell_type": "markdown",
   "metadata": {},
   "source": [
    "Cross-Validation para Classes Desbalanceadas"
   ]
  },
  {
   "cell_type": "code",
   "execution_count": 74,
   "metadata": {},
   "outputs": [
    {
     "name": "stdout",
     "output_type": "stream",
     "text": [
      ">Treino: 0=255883, 1=443, Teste: 0=28432, 1=49\n",
      ">Treino: 0=255883, 1=443, Teste: 0=28432, 1=49\n",
      ">Treino: 0=255883, 1=443, Teste: 0=28432, 1=49\n",
      ">Treino: 0=255883, 1=443, Teste: 0=28432, 1=49\n",
      ">Treino: 0=255883, 1=443, Teste: 0=28432, 1=49\n",
      ">Treino: 0=255884, 1=442, Teste: 0=28431, 1=50\n",
      ">Treino: 0=255884, 1=442, Teste: 0=28431, 1=50\n",
      ">Treino: 0=255884, 1=443, Teste: 0=28431, 1=49\n",
      ">Treino: 0=255884, 1=443, Teste: 0=28431, 1=49\n",
      ">Treino: 0=255884, 1=443, Teste: 0=28431, 1=49\n"
     ]
    }
   ],
   "source": [
    "cv = StratifiedKFold(n_splits=10)\n",
    "# verificando as amostras\n",
    "for train_ix, test_ix in cv.split(X, y):\n",
    "    # linhas\n",
    "    train_X, test_X = X[train_ix], X[test_ix]\n",
    "    train_y, test_y = y[train_ix], y[test_ix]\n",
    "    # resumo das amostras\n",
    "    train_0, train_1 = len(train_y[train_y==0]), len(train_y[train_y==1])\n",
    "    test_0, test_1 = len(test_y[test_y==0]), len(test_y[test_y==1])\n",
    "    print('>Treino: 0=%d, 1=%d, Teste: 0=%d, 1=%d' % (train_0, train_1, test_0, test_1))"
   ]
  },
  {
   "cell_type": "markdown",
   "metadata": {},
   "source": [
    "Função para avaliar os modelos"
   ]
  },
  {
   "cell_type": "code",
   "execution_count": 75,
   "metadata": {},
   "outputs": [],
   "source": [
    "def avaliar_modelo(models, X, y):\n",
    "\n",
    "    colors = ['m','k','g','b','r','c','y']\n",
    "# Criação de uma tabela com as métricas de avaliação do modelo.\n",
    "\n",
    "    tabela_medias = {\n",
    "        'ROC AUC': [],\n",
    "        'AUPRC': [],\n",
    "        'Precision': [],\n",
    "        'Recall': [],\n",
    "        'Time': [],\n",
    "    }\n",
    "\n",
    "# Criação da figura que compara duas curvas de avaliação do modelo\n",
    "    fig, (ax_roc, ax_precrecall) = plt.subplots(1, 2)\n",
    "    for model_idx, (model_name, model) in enumerate(models.items()):\n",
    "        cv = StratifiedKFold(n_splits=10)\n",
    "        fold_scores = {s : [] for s in tabela_medias}\n",
    "        fold_tprs = []\n",
    "        fold_recalls = []\n",
    "        base_fpr = np.linspace(0, 1, 101)\n",
    "        base_precision = np.linspace(0, 1, 101)\n",
    "\n",
    "# Treino de cada modelo aplicando validação cruzada estratificada.\n",
    "        for i, (train, test) in enumerate(cv.split(X, y)):\n",
    "            xtr, xvl = X[train], X[test]\n",
    "            ytr, yvl = y[train], y[test]\n",
    "            fit_time = perf_counter() \n",
    "            model.fit(xtr, ytr)\n",
    "            fit_time = perf_counter() - fit_time\n",
    "            \n",
    "# Cálculo do valor predito e probabilidades para cada classe\n",
    "            y_pred = model.predict(xvl)\n",
    "            y_score = model.predict_proba(xvl)[:, 1] \n",
    "            precision, recall, _ = precision_recall_curve(yvl, y_score) \n",
    "            \n",
    "            \n",
    "# Cálculo das métricas de avaliação\n",
    "\n",
    "            fold_scores['ROC AUC'].append(roc_auc_score(yvl, y_pred))\n",
    "            fold_scores['AUPRC'].append(auc(recall, precision))\n",
    "            fold_scores['Recall'].append(recall_score(yvl, y_pred,average='weighted'))\n",
    "            fold_scores['Precision'].append(precision_score(yvl, y_pred,average='weighted'))\n",
    "            fold_scores['Time'].append(fit_time)\n",
    "\n",
    "          \n",
    "            fpr, tpr, _ = roc_curve(yvl, y_score) \n",
    "            tpr = np.interp(base_fpr, fpr, tpr)\n",
    "            tpr[0] = 0.0\n",
    "            fold_tprs.append(tpr)\n",
    "            \n",
    "            \n",
    "            recall = np.interp(base_precision, precision, recall)\n",
    "            recall[0] = 1.0\n",
    "            fold_recalls.append(recall)\n",
    "            \n",
    "\n",
    "        # calcula médias das métricas\n",
    "        for nome_medida, lista_medidas in fold_scores.items():\n",
    "            tabela_medias[nome_medida].append(np.mean(lista_medidas))\n",
    "        \n",
    "# Construção da curva ROC e AUPRC\n",
    "        tprs = np.array(fold_tprs)\n",
    "        mean_tprs = tprs.mean(axis=0)\n",
    "        ax_roc.plot(base_fpr, mean_tprs, color=colors[model_idx], label=f\"{model_name}\")\n",
    "\n",
    "        \n",
    "        # calcula e plota a curva PRECISION-RECALL média\n",
    "        recalls = np.array(fold_recalls)\n",
    "        mean_recalls = recalls.mean(axis=0)\n",
    "        ax_precrecall.plot(base_precision, mean_recalls, color=colors[model_idx], label=f\"{model_name}\")\n",
    "\n",
    "# Configuração e apresentação do gráfico das curvas ROC e AUPRC\n",
    "    ax_roc.plot([0, 1], [0, 1], color='orange', linestyle='--')\n",
    "    ax_roc.axis(xmin=-0.01, xmax=1.01)\n",
    "    ax_roc.axis(ymin=-0.01, ymax=1.01)\n",
    "    ax_roc.set_title(\"Análise da curva ROC\",fontsize=12)\n",
    "    ax_roc.set_ylabel('Taxa de Verdadeiro Positivo')\n",
    "    ax_roc.set_xlabel('Taxa de Falso Positivo')\n",
    "    ax_roc.legend()\n",
    "\n",
    "\n",
    "    ax_precrecall.plot([0, 1], [1, 0], color='orange', linestyle='--')\n",
    "    ax_precrecall.axis(xmin=-0.01, xmax=1.01)\n",
    "    ax_precrecall.axis(ymin=-0.01, ymax=1.01)\n",
    "    ax_precrecall.set_title(\"Análise da curva Precision-Recall\",fontsize=12)\n",
    "    ax_precrecall.set_ylabel('Taxa de Recall')\n",
    "    ax_precrecall.set_xlabel('Taxa de Precision')\n",
    "    ax_precrecall.legend()\n",
    "    \n",
    "    plt.subplots_adjust(hspace=0.5)\n",
    "    fig.set_size_inches(10,5)\n",
    "    plt.show()\n",
    "    \n",
    "# Apresentação da tabela de medidas de avaliação do modelo\n",
    "    df = pd.DataFrame(tabela_medias, index=models.keys())\n",
    "    return df"
   ]
  },
  {
   "cell_type": "markdown",
   "metadata": {},
   "source": [
    "## Avaliação e interpretação do modelo\n",
    "\n",
    "Modelos avaliados:\n",
    "\n",
    "- Regressão Logística\n",
    "- Árvore de Decisão\n",
    "- Random Forest\n",
    "- XGBoost"
   ]
  },
  {
   "cell_type": "markdown",
   "metadata": {},
   "source": [
    "Modelos base para comparação"
   ]
  },
  {
   "cell_type": "code",
   "execution_count": 76,
   "metadata": {},
   "outputs": [],
   "source": [
    "models_s = {\n",
    "    \"Regressão Logística\": LogisticRegression(solver='lbfgs'),\n",
    "    \"Árvore de Decisão\": DecisionTreeClassifier(),\n",
    "    \"Random Forest\": RandomForestClassifier(),\n",
    "    \"XGBoost\": XGBClassifier()\n",
    "}"
   ]
  },
  {
   "cell_type": "markdown",
   "metadata": {},
   "source": [
    "Modelos ajustados"
   ]
  },
  {
   "cell_type": "code",
   "execution_count": 77,
   "metadata": {},
   "outputs": [],
   "source": [
    "models = {\n",
    "    \"Regressão Logística\": LogisticRegression(solver='lbfgs', class_weight='balanced'),\n",
    "    \"Árvore de Decisão\": DecisionTreeClassifier(class_weight='balanced'),\n",
    "    \"Random Forest\": RandomForestClassifier(class_weight='balanced'),\n",
    "    \"XGBoost\": XGBClassifier(scale_pos_weight=578)\n",
    "}"
   ]
  },
  {
   "cell_type": "code",
   "execution_count": 78,
   "metadata": {},
   "outputs": [
    {
     "name": "stdout",
     "output_type": "stream",
     "text": [
      "[15:16:13] WARNING: ../src/learner.cc:1061: Starting in XGBoost 1.3.0, the default evaluation metric used with the objective 'binary:logistic' was changed from 'error' to 'logloss'. Explicitly set eval_metric if you'd like to restore the old behavior.\n",
      "[15:16:32] WARNING: ../src/learner.cc:1061: Starting in XGBoost 1.3.0, the default evaluation metric used with the objective 'binary:logistic' was changed from 'error' to 'logloss'. Explicitly set eval_metric if you'd like to restore the old behavior.\n",
      "[15:16:50] WARNING: ../src/learner.cc:1061: Starting in XGBoost 1.3.0, the default evaluation metric used with the objective 'binary:logistic' was changed from 'error' to 'logloss'. Explicitly set eval_metric if you'd like to restore the old behavior.\n",
      "[15:17:08] WARNING: ../src/learner.cc:1061: Starting in XGBoost 1.3.0, the default evaluation metric used with the objective 'binary:logistic' was changed from 'error' to 'logloss'. Explicitly set eval_metric if you'd like to restore the old behavior.\n",
      "[15:17:24] WARNING: ../src/learner.cc:1061: Starting in XGBoost 1.3.0, the default evaluation metric used with the objective 'binary:logistic' was changed from 'error' to 'logloss'. Explicitly set eval_metric if you'd like to restore the old behavior.\n",
      "[15:17:43] WARNING: ../src/learner.cc:1061: Starting in XGBoost 1.3.0, the default evaluation metric used with the objective 'binary:logistic' was changed from 'error' to 'logloss'. Explicitly set eval_metric if you'd like to restore the old behavior.\n",
      "[15:18:00] WARNING: ../src/learner.cc:1061: Starting in XGBoost 1.3.0, the default evaluation metric used with the objective 'binary:logistic' was changed from 'error' to 'logloss'. Explicitly set eval_metric if you'd like to restore the old behavior.\n",
      "[15:18:17] WARNING: ../src/learner.cc:1061: Starting in XGBoost 1.3.0, the default evaluation metric used with the objective 'binary:logistic' was changed from 'error' to 'logloss'. Explicitly set eval_metric if you'd like to restore the old behavior.\n",
      "[15:18:35] WARNING: ../src/learner.cc:1061: Starting in XGBoost 1.3.0, the default evaluation metric used with the objective 'binary:logistic' was changed from 'error' to 'logloss'. Explicitly set eval_metric if you'd like to restore the old behavior.\n",
      "[15:18:53] WARNING: ../src/learner.cc:1061: Starting in XGBoost 1.3.0, the default evaluation metric used with the objective 'binary:logistic' was changed from 'error' to 'logloss'. Explicitly set eval_metric if you'd like to restore the old behavior.\n"
     ]
    },
    {
     "data": {
      "image/png": "[encoded data removed]",
      "text/plain": [
       "<Figure size 720x360 with 2 Axes>"
      ]
     },
     "metadata": {
      "needs_background": "light"
     },
     "output_type": "display_data"
    },
    {
     "data": {
      "text/html": [
       "<div>\n",
       "<style scoped>\n",
       "    .dataframe tbody tr th:only-of-type {\n",
       "        vertical-align: middle;\n",
       "    }\n",
       "\n",
       "    .dataframe tbody tr th {\n",
       "        vertical-align: top;\n",
       "    }\n",
       "\n",
       "    .dataframe thead th {\n",
       "        text-align: right;\n",
       "    }\n",
       "</style>\n",
       "<table border=\"1\" class=\"dataframe\">\n",
       "  <thead>\n",
       "    <tr style=\"text-align: right;\">\n",
       "      <th></th>\n",
       "      <th>ROC AUC</th>\n",
       "      <th>AUPRC</th>\n",
       "      <th>Precision</th>\n",
       "      <th>Recall</th>\n",
       "      <th>Time</th>\n",
       "    </tr>\n",
       "  </thead>\n",
       "  <tbody>\n",
       "    <tr>\n",
       "      <th>Regressão Logística</th>\n",
       "      <td>0.790388</td>\n",
       "      <td>0.740647</td>\n",
       "      <td>0.999123</td>\n",
       "      <td>0.999115</td>\n",
       "      <td>0.722559</td>\n",
       "    </tr>\n",
       "    <tr>\n",
       "      <th>Árvore de Decisão</th>\n",
       "      <td>0.805421</td>\n",
       "      <td>0.670443</td>\n",
       "      <td>0.998697</td>\n",
       "      <td>0.901162</td>\n",
       "      <td>13.346881</td>\n",
       "    </tr>\n",
       "    <tr>\n",
       "      <th>Random Forest</th>\n",
       "      <td>0.826011</td>\n",
       "      <td>0.768089</td>\n",
       "      <td>0.999155</td>\n",
       "      <td>0.901963</td>\n",
       "      <td>145.116428</td>\n",
       "    </tr>\n",
       "    <tr>\n",
       "      <th>XGBoost</th>\n",
       "      <td>0.873732</td>\n",
       "      <td>0.786199</td>\n",
       "      <td>0.999327</td>\n",
       "      <td>0.999192</td>\n",
       "      <td>17.534687</td>\n",
       "    </tr>\n",
       "  </tbody>\n",
       "</table>\n",
       "</div>"
      ],
      "text/plain": [
       "                      ROC AUC     AUPRC  Precision    Recall        Time\n",
       "Regressão Logística  0.790388  0.740647   0.999123  0.999115    0.722559\n",
       "Árvore de Decisão    0.805421  0.670443   0.998697  0.901162   13.346881\n",
       "Random Forest        0.826011  0.768089   0.999155  0.901963  145.116428\n",
       "XGBoost              0.873732  0.786199   0.999327  0.999192   17.534687"
      ]
     },
     "execution_count": 78,
     "metadata": {},
     "output_type": "execute_result"
    }
   ],
   "source": [
    "avaliar_modelo(models_s, X, y)"
   ]
  },
  {
   "cell_type": "code",
   "execution_count": 79,
   "metadata": {},
   "outputs": [
    {
     "name": "stdout",
     "output_type": "stream",
     "text": [
      "[15:34:17] WARNING: ../src/learner.cc:1061: Starting in XGBoost 1.3.0, the default evaluation metric used with the objective 'binary:logistic' was changed from 'error' to 'logloss'. Explicitly set eval_metric if you'd like to restore the old behavior.\n",
      "[15:34:39] WARNING: ../src/learner.cc:1061: Starting in XGBoost 1.3.0, the default evaluation metric used with the objective 'binary:logistic' was changed from 'error' to 'logloss'. Explicitly set eval_metric if you'd like to restore the old behavior.\n",
      "[15:34:59] WARNING: ../src/learner.cc:1061: Starting in XGBoost 1.3.0, the default evaluation metric used with the objective 'binary:logistic' was changed from 'error' to 'logloss'. Explicitly set eval_metric if you'd like to restore the old behavior.\n",
      "[15:35:22] WARNING: ../src/learner.cc:1061: Starting in XGBoost 1.3.0, the default evaluation metric used with the objective 'binary:logistic' was changed from 'error' to 'logloss'. Explicitly set eval_metric if you'd like to restore the old behavior.\n",
      "[15:35:42] WARNING: ../src/learner.cc:1061: Starting in XGBoost 1.3.0, the default evaluation metric used with the objective 'binary:logistic' was changed from 'error' to 'logloss'. Explicitly set eval_metric if you'd like to restore the old behavior.\n",
      "[15:36:01] WARNING: ../src/learner.cc:1061: Starting in XGBoost 1.3.0, the default evaluation metric used with the objective 'binary:logistic' was changed from 'error' to 'logloss'. Explicitly set eval_metric if you'd like to restore the old behavior.\n",
      "[15:36:22] WARNING: ../src/learner.cc:1061: Starting in XGBoost 1.3.0, the default evaluation metric used with the objective 'binary:logistic' was changed from 'error' to 'logloss'. Explicitly set eval_metric if you'd like to restore the old behavior.\n",
      "[15:36:43] WARNING: ../src/learner.cc:1061: Starting in XGBoost 1.3.0, the default evaluation metric used with the objective 'binary:logistic' was changed from 'error' to 'logloss'. Explicitly set eval_metric if you'd like to restore the old behavior.\n",
      "[15:37:04] WARNING: ../src/learner.cc:1061: Starting in XGBoost 1.3.0, the default evaluation metric used with the objective 'binary:logistic' was changed from 'error' to 'logloss'. Explicitly set eval_metric if you'd like to restore the old behavior.\n",
      "[15:37:25] WARNING: ../src/learner.cc:1061: Starting in XGBoost 1.3.0, the default evaluation metric used with the objective 'binary:logistic' was changed from 'error' to 'logloss'. Explicitly set eval_metric if you'd like to restore the old behavior.\n"
     ]
    },
    {
     "data": {
      "image/png": "[encoded data removed]",
      "text/plain": [
       "<Figure size 720x360 with 2 Axes>"
      ]
     },
     "metadata": {
      "needs_background": "light"
     },
     "output_type": "display_data"
    },
    {
     "data": {
      "text/html": [
       "<div>\n",
       "<style scoped>\n",
       "    .dataframe tbody tr th:only-of-type {\n",
       "        vertical-align: middle;\n",
       "    }\n",
       "\n",
       "    .dataframe tbody tr th {\n",
       "        vertical-align: top;\n",
       "    }\n",
       "\n",
       "    .dataframe thead th {\n",
       "        text-align: right;\n",
       "    }\n",
       "</style>\n",
       "<table border=\"1\" class=\"dataframe\">\n",
       "  <thead>\n",
       "    <tr style=\"text-align: right;\">\n",
       "      <th></th>\n",
       "      <th>ROC AUC</th>\n",
       "      <th>AUPRC</th>\n",
       "      <th>Precision</th>\n",
       "      <th>Recall</th>\n",
       "      <th>Time</th>\n",
       "    </tr>\n",
       "  </thead>\n",
       "  <tbody>\n",
       "    <tr>\n",
       "      <th>Regressão Logística</th>\n",
       "      <td>0.927514</td>\n",
       "      <td>0.767027</td>\n",
       "      <td>0.998181</td>\n",
       "      <td>0.972992</td>\n",
       "      <td>0.702613</td>\n",
       "    </tr>\n",
       "    <tr>\n",
       "      <th>Árvore de Decisão</th>\n",
       "      <td>0.819368</td>\n",
       "      <td>0.613130</td>\n",
       "      <td>0.998658</td>\n",
       "      <td>0.989860</td>\n",
       "      <td>6.333758</td>\n",
       "    </tr>\n",
       "    <tr>\n",
       "      <th>Random Forest</th>\n",
       "      <td>0.844428</td>\n",
       "      <td>0.771375</td>\n",
       "      <td>0.999318</td>\n",
       "      <td>0.999298</td>\n",
       "      <td>78.808181</td>\n",
       "    </tr>\n",
       "    <tr>\n",
       "      <th>XGBoost</th>\n",
       "      <td>0.889677</td>\n",
       "      <td>0.762314</td>\n",
       "      <td>0.999168</td>\n",
       "      <td>0.998813</td>\n",
       "      <td>20.797345</td>\n",
       "    </tr>\n",
       "  </tbody>\n",
       "</table>\n",
       "</div>"
      ],
      "text/plain": [
       "                      ROC AUC     AUPRC  Precision    Recall       Time\n",
       "Regressão Logística  0.927514  0.767027   0.998181  0.972992   0.702613\n",
       "Árvore de Decisão    0.819368  0.613130   0.998658  0.989860   6.333758\n",
       "Random Forest        0.844428  0.771375   0.999318  0.999298  78.808181\n",
       "XGBoost              0.889677  0.762314   0.999168  0.998813  20.797345"
      ]
     },
     "execution_count": 79,
     "metadata": {},
     "output_type": "execute_result"
    }
   ],
   "source": [
    "avaliar_modelo(models, X, y)"
   ]
  },
  {
   "cell_type": "markdown",
   "metadata": {},
   "source": [
    "## Até a próxima! \n",
    "\n",
    "![title](thank_you.png)\n",
    "[Illustration by Freepik Storyset](https://storyset.com)"
   ]
  }
 ],
 "metadata": {
  "kernelspec": {
   "display_name": "Python 3",
   "language": "python",
   "name": "python3"
  },
  "language_info": {
   "codemirror_mode": {
    "name": "ipython",
    "version": 3
   },
   "file_extension": ".py",
   "mimetype": "text/x-python",
   "name": "python",
   "nbconvert_exporter": "python",
   "pygments_lexer": "ipython3",
   "version": "3.8.5"
  }
 },
 "nbformat": 4,
 "nbformat_minor": 4
}
